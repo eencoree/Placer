{
 "cells": [
  {
   "cell_type": "code",
   "execution_count": 3,
   "metadata": {
    "collapsed": true,
    "pycharm": {
     "name": "#%%\n"
    }
   },
   "outputs": [],
   "source": [
    "from intelligent_placer_lib import functions\n",
    "from intelligent_placer_lib import rc\n",
    "import os\n",
    "import cv2"
   ]
  },
  {
   "cell_type": "code",
   "execution_count": 4,
   "outputs": [],
   "source": [
    "items = \"./source items\"\n",
    "test_items = \"./input data/items\"\n",
    "polygons = \"./input data/polygons\"\n",
    "\n",
    "items_list = os.listdir(items)\n",
    "test_items_list = os.listdir(test_items)\n",
    "polygons_list = os.listdir(polygons)"
   ],
   "metadata": {
    "collapsed": false,
    "pycharm": {
     "name": "#%%\n"
    }
   }
  },
  {
   "cell_type": "markdown",
   "source": [
    "Measuring the focal distance of input photos from a white sheet photo"
   ],
   "metadata": {
    "collapsed": false
   }
  },
  {
   "cell_type": "code",
   "execution_count": 6,
   "outputs": [],
   "source": [
    "import numpy as np\n",
    "flag = 0\n",
    "sheet = cv2.imread(os.path.join(items, items_list[items_list.index('sheet.jpg')]))\n",
    "for elem in test_items_list:\n",
    "    img = cv2.imread(os.path.join(test_items, elem))\n",
    "    img = cv2.cvtColor(img, cv2.COLOR_BGR2GRAY)\n",
    "    img = functions.cropping_img(img)\n",
    "    mask = img != 255\n",
    "    rows_indices = np.where(np.any(mask, axis=1))[0]\n",
    "    first_row_index, last_row_index = rows_indices[0], rows_indices[-1]\n",
    "    dist = functions.calc_focal_length(sheet, last_row_index - first_row_index)\n",
    "    if dist < 25 or dist > 40:\n",
    "        print(f\"shooting height = {dist}\", f\"the shooting height limit has been exceeded for the file {elem}\")\n",
    "        flag = 1\n",
    "if flag == 1:\n",
    "    exit(0)"
   ],
   "metadata": {
    "collapsed": false,
    "pycharm": {
     "name": "#%%\n"
    }
   }
  },
  {
   "cell_type": "markdown",
   "source": [
    "Defining the contour of a polygon and calculating its area"
   ],
   "metadata": {
    "collapsed": false
   }
  },
  {
   "cell_type": "code",
   "execution_count": null,
   "outputs": [],
   "source": [
    "for elem in polygons_list:\n",
    "    img = functions.preproc_img(polygons+\"/\"+elem)\n",
    "    if type(img) is rc.RC:\n",
    "        print(img)\n",
    "        exit(0)\n",
    "    cropped_polygon = functions.cropping_img(img)\n",
    "    if type(cropped_polygon) is tuple:\n",
    "        print(x for x in cropped_polygon)\n",
    "        exit(0)\n",
    "    area = functions.find_contour(cropped_polygon)\n",
    "    if type(area) is tuple:\n",
    "        print(x for x in area)\n",
    "        exit(0)\n",
    "    print(elem, area)"
   ],
   "metadata": {
    "collapsed": false,
    "pycharm": {
     "name": "#%%\n",
     "is_executing": true
    }
   }
  }
 ],
 "metadata": {
  "kernelspec": {
   "display_name": "Python 3",
   "language": "python",
   "name": "python3"
  },
  "language_info": {
   "codemirror_mode": {
    "name": "ipython",
    "version": 2
   },
   "file_extension": ".py",
   "mimetype": "text/x-python",
   "name": "python",
   "nbconvert_exporter": "python",
   "pygments_lexer": "ipython2",
   "version": "2.7.6"
  }
 },
 "nbformat": 4,
 "nbformat_minor": 0
}